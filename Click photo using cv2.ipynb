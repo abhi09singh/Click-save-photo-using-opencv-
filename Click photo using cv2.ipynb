{
 "cells": [
  {
   "cell_type": "code",
   "execution_count": 1,
   "id": "e9b725f2",
   "metadata": {},
   "outputs": [],
   "source": [
    "import cv2"
   ]
  },
  {
   "cell_type": "code",
   "execution_count": 2,
   "id": "8643b653",
   "metadata": {},
   "outputs": [],
   "source": [
    "\n",
    "cap=cv2.VideoCapture(0) #enter 0 for internal camera and 1 for external camera\n",
    "\n",
    "ret,photo=cap.read()\n"
   ]
  },
  {
   "cell_type": "code",
   "execution_count": 3,
   "id": "466defec",
   "metadata": {},
   "outputs": [
    {
     "data": {
      "text/plain": [
       "True"
      ]
     },
     "execution_count": 3,
     "metadata": {},
     "output_type": "execute_result"
    }
   ],
   "source": [
    "ret #To check status of photo"
   ]
  },
  {
   "cell_type": "code",
   "execution_count": 4,
   "id": "c9f5a10d",
   "metadata": {},
   "outputs": [],
   "source": [
    "cv2.imshow(\"hi\",photo) #To see your photo in a separate window\n",
    "cv2.waitKey() #press enter to exit from window\n",
    "\n",
    "cv2.destroyAllWindows() #to close the window"
   ]
  },
  {
   "cell_type": "code",
   "execution_count": 5,
   "id": "06062c7b",
   "metadata": {},
   "outputs": [
    {
     "data": {
      "text/plain": [
       "True"
      ]
     },
     "execution_count": 5,
     "metadata": {},
     "output_type": "execute_result"
    }
   ],
   "source": [
    "cv2.imwrite(\"my.jpg\",photo) #To save your photo as my.jpg filename"
   ]
  },
  {
   "cell_type": "code",
   "execution_count": 6,
   "id": "1abbd1b3",
   "metadata": {},
   "outputs": [],
   "source": [
    "cap.release() #To release the camera"
   ]
  }
 ],
 "metadata": {
  "kernelspec": {
   "display_name": "Python 3",
   "language": "python",
   "name": "python3"
  },
  "language_info": {
   "codemirror_mode": {
    "name": "ipython",
    "version": 3
   },
   "file_extension": ".py",
   "mimetype": "text/x-python",
   "name": "python",
   "nbconvert_exporter": "python",
   "pygments_lexer": "ipython3",
   "version": "3.8.8"
  }
 },
 "nbformat": 4,
 "nbformat_minor": 5
}
